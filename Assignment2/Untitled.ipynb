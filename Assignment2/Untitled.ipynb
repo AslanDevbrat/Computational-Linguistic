{
 "cells": [
  {
   "cell_type": "markdown",
   "metadata": {},
   "source": [
    "## Reading text file"
   ]
  },
  {
   "cell_type": "code",
   "execution_count": 16,
   "metadata": {},
   "outputs": [],
   "source": [
    "file1 = open(\"mother-goose-corpus.txt\",\"r\") "
   ]
  },
  {
   "cell_type": "code",
   "execution_count": 27,
   "metadata": {},
   "outputs": [
    {
     "name": "stdout",
     "output_type": "stream",
     "text": [
      "<s> peter piper picked a peck of pickled peppers </s>\n",
      "<s> a peck of pickled peppers peter piper picked </s>\n",
      "<s> if peter piper picked a peck of pickled peppers </s>\n",
      "<s> where s the peck of pickled peppers peter piper picked </s>\n"
     ]
    }
   ],
   "source": [
    "arr=[]\n",
    "with open(\"mother-goose-corpus.txt\", \"r\") as a_file:\n",
    "      for line in a_file:\n",
    "        stripped_line = line.strip()\n",
    "        arr.append(stripped_line)\n",
    "        print(stripped_line)"
   ]
  },
  {
   "cell_type": "markdown",
   "metadata": {},
   "source": [
    "## Creating vocabulary set\n"
   ]
  },
  {
   "cell_type": "code",
   "execution_count": 114,
   "metadata": {},
   "outputs": [
    {
     "name": "stdout",
     "output_type": "stream",
     "text": [
      "Vocabulary := ['<s>', 'peter', 'piper', 'picked', 'a', 'peck', 'of', 'pickled', 'peppers', '</s>', 'if', 'where', 's', 'the']\n"
     ]
    }
   ],
   "source": [
    "vocabluray_dict = {} \n",
    "for sentence in arr:\n",
    "    for word in sentence.split():\n",
    "        if word in vocabluray_dict:\n",
    "            vocabluray_dict[word]+=1\n",
    "        else:\n",
    "            vocabluray_dict[word] =1\n",
    "print('Vocabulary :=', [*vocabluray_dict])        "
   ]
  },
  {
   "cell_type": "markdown",
   "metadata": {},
   "source": [
    "## Unigram Prob            \n",
    "    "
   ]
  },
  {
   "cell_type": "code",
   "execution_count": 115,
   "metadata": {
    "scrolled": true
   },
   "outputs": [
    {
     "name": "stdout",
     "output_type": "stream",
     "text": [
      "unigram with highest probability is  ' <s> 'with probability  0.09302325581395349\n",
      "unigram with second highest Probability ' peter 'with probability  0.09302325581395349\n"
     ]
    }
   ],
   "source": [
    "unigram_dict = dict()\n",
    "import operator\n",
    "for item in vocabluray_dict:\n",
    "    unigram_dict[item]= vocabluray_dict[item]/sum(vocabluray_dict.values())\n",
    "sorted_x = sorted(unigram_dict.items(), key=operator.itemgetter(1),reverse=True)\n",
    "print(\"unigram with highest probability is  \\'\",sorted_x[0][0],'\\'with probability ',sorted_x[0][1])\n",
    "print(\"unigram with second highest Probability \\'\",sorted_x[1][0], '\\'with probability ',sorted_x[1][1])\n"
   ]
  },
  {
   "cell_type": "markdown",
   "metadata": {},
   "source": [
    "### Note:\n"
   ]
  },
  {
   "cell_type": "raw",
   "metadata": {},
   "source": [
    "Actually <s>, peter,piper, picked,peck,of,picked,peppers,</s> has the same highest probability,\n",
    "followed by a, if, where, s, the"
   ]
  },
  {
   "cell_type": "markdown",
   "metadata": {},
   "source": [
    "## Q3\n"
   ]
  },
  {
   "cell_type": "code",
   "execution_count": 116,
   "metadata": {},
   "outputs": [
    {
     "data": {
      "text/plain": [
       "4"
      ]
     },
     "execution_count": 116,
     "metadata": {},
     "output_type": "execute_result"
    }
   ],
   "source": [
    "vocabluray_dict.pop('</s>')\n",
    "vocabluray_dict.pop('<s>')\n",
    "\n",
    "#"
   ]
  },
  {
   "cell_type": "code",
   "execution_count": 123,
   "metadata": {},
   "outputs": [
    {
     "data": {
      "text/html": [
       "<div>\n",
       "<style scoped>\n",
       "    .dataframe tbody tr th:only-of-type {\n",
       "        vertical-align: middle;\n",
       "    }\n",
       "\n",
       "    .dataframe tbody tr th {\n",
       "        vertical-align: top;\n",
       "    }\n",
       "\n",
       "    .dataframe thead th {\n",
       "        text-align: right;\n",
       "    }\n",
       "</style>\n",
       "<table border=\"1\" class=\"dataframe\">\n",
       "  <thead>\n",
       "    <tr style=\"text-align: right;\">\n",
       "      <th></th>\n",
       "      <th>peter</th>\n",
       "      <th>piper</th>\n",
       "      <th>picked</th>\n",
       "      <th>a</th>\n",
       "      <th>peck</th>\n",
       "      <th>of</th>\n",
       "      <th>pickled</th>\n",
       "      <th>peppers</th>\n",
       "      <th>if</th>\n",
       "      <th>where</th>\n",
       "      <th>s</th>\n",
       "      <th>the</th>\n",
       "    </tr>\n",
       "  </thead>\n",
       "  <tbody>\n",
       "    <tr>\n",
       "      <th>peter</th>\n",
       "      <td>0</td>\n",
       "      <td>0</td>\n",
       "      <td>0</td>\n",
       "      <td>0</td>\n",
       "      <td>0</td>\n",
       "      <td>0</td>\n",
       "      <td>0</td>\n",
       "      <td>0</td>\n",
       "      <td>0</td>\n",
       "      <td>0</td>\n",
       "      <td>0</td>\n",
       "      <td>0</td>\n",
       "    </tr>\n",
       "    <tr>\n",
       "      <th>piper</th>\n",
       "      <td>0</td>\n",
       "      <td>0</td>\n",
       "      <td>0</td>\n",
       "      <td>0</td>\n",
       "      <td>0</td>\n",
       "      <td>0</td>\n",
       "      <td>0</td>\n",
       "      <td>0</td>\n",
       "      <td>0</td>\n",
       "      <td>0</td>\n",
       "      <td>0</td>\n",
       "      <td>0</td>\n",
       "    </tr>\n",
       "    <tr>\n",
       "      <th>picked</th>\n",
       "      <td>0</td>\n",
       "      <td>0</td>\n",
       "      <td>0</td>\n",
       "      <td>0</td>\n",
       "      <td>0</td>\n",
       "      <td>0</td>\n",
       "      <td>0</td>\n",
       "      <td>0</td>\n",
       "      <td>0</td>\n",
       "      <td>0</td>\n",
       "      <td>0</td>\n",
       "      <td>0</td>\n",
       "    </tr>\n",
       "    <tr>\n",
       "      <th>a</th>\n",
       "      <td>0</td>\n",
       "      <td>0</td>\n",
       "      <td>0</td>\n",
       "      <td>0</td>\n",
       "      <td>0</td>\n",
       "      <td>0</td>\n",
       "      <td>0</td>\n",
       "      <td>0</td>\n",
       "      <td>0</td>\n",
       "      <td>0</td>\n",
       "      <td>0</td>\n",
       "      <td>0</td>\n",
       "    </tr>\n",
       "    <tr>\n",
       "      <th>peck</th>\n",
       "      <td>0</td>\n",
       "      <td>0</td>\n",
       "      <td>0</td>\n",
       "      <td>0</td>\n",
       "      <td>0</td>\n",
       "      <td>0</td>\n",
       "      <td>0</td>\n",
       "      <td>0</td>\n",
       "      <td>0</td>\n",
       "      <td>0</td>\n",
       "      <td>0</td>\n",
       "      <td>0</td>\n",
       "    </tr>\n",
       "    <tr>\n",
       "      <th>of</th>\n",
       "      <td>0</td>\n",
       "      <td>0</td>\n",
       "      <td>0</td>\n",
       "      <td>0</td>\n",
       "      <td>0</td>\n",
       "      <td>0</td>\n",
       "      <td>0</td>\n",
       "      <td>0</td>\n",
       "      <td>0</td>\n",
       "      <td>0</td>\n",
       "      <td>0</td>\n",
       "      <td>0</td>\n",
       "    </tr>\n",
       "    <tr>\n",
       "      <th>pickled</th>\n",
       "      <td>0</td>\n",
       "      <td>0</td>\n",
       "      <td>0</td>\n",
       "      <td>0</td>\n",
       "      <td>0</td>\n",
       "      <td>0</td>\n",
       "      <td>0</td>\n",
       "      <td>0</td>\n",
       "      <td>0</td>\n",
       "      <td>0</td>\n",
       "      <td>0</td>\n",
       "      <td>0</td>\n",
       "    </tr>\n",
       "    <tr>\n",
       "      <th>peppers</th>\n",
       "      <td>0</td>\n",
       "      <td>0</td>\n",
       "      <td>0</td>\n",
       "      <td>0</td>\n",
       "      <td>0</td>\n",
       "      <td>0</td>\n",
       "      <td>0</td>\n",
       "      <td>0</td>\n",
       "      <td>0</td>\n",
       "      <td>0</td>\n",
       "      <td>0</td>\n",
       "      <td>0</td>\n",
       "    </tr>\n",
       "    <tr>\n",
       "      <th>if</th>\n",
       "      <td>0</td>\n",
       "      <td>0</td>\n",
       "      <td>0</td>\n",
       "      <td>0</td>\n",
       "      <td>0</td>\n",
       "      <td>0</td>\n",
       "      <td>0</td>\n",
       "      <td>0</td>\n",
       "      <td>0</td>\n",
       "      <td>0</td>\n",
       "      <td>0</td>\n",
       "      <td>0</td>\n",
       "    </tr>\n",
       "    <tr>\n",
       "      <th>where</th>\n",
       "      <td>0</td>\n",
       "      <td>0</td>\n",
       "      <td>0</td>\n",
       "      <td>0</td>\n",
       "      <td>0</td>\n",
       "      <td>0</td>\n",
       "      <td>0</td>\n",
       "      <td>0</td>\n",
       "      <td>0</td>\n",
       "      <td>0</td>\n",
       "      <td>0</td>\n",
       "      <td>0</td>\n",
       "    </tr>\n",
       "    <tr>\n",
       "      <th>s</th>\n",
       "      <td>0</td>\n",
       "      <td>0</td>\n",
       "      <td>0</td>\n",
       "      <td>0</td>\n",
       "      <td>0</td>\n",
       "      <td>0</td>\n",
       "      <td>0</td>\n",
       "      <td>0</td>\n",
       "      <td>0</td>\n",
       "      <td>0</td>\n",
       "      <td>0</td>\n",
       "      <td>0</td>\n",
       "    </tr>\n",
       "    <tr>\n",
       "      <th>the</th>\n",
       "      <td>0</td>\n",
       "      <td>0</td>\n",
       "      <td>0</td>\n",
       "      <td>0</td>\n",
       "      <td>0</td>\n",
       "      <td>0</td>\n",
       "      <td>0</td>\n",
       "      <td>0</td>\n",
       "      <td>0</td>\n",
       "      <td>0</td>\n",
       "      <td>0</td>\n",
       "      <td>0</td>\n",
       "    </tr>\n",
       "  </tbody>\n",
       "</table>\n",
       "</div>"
      ],
      "text/plain": [
       "         peter  piper  picked  a  peck  of  pickled  peppers  if  where  s  \\\n",
       "peter        0      0       0  0     0   0        0        0   0      0  0   \n",
       "piper        0      0       0  0     0   0        0        0   0      0  0   \n",
       "picked       0      0       0  0     0   0        0        0   0      0  0   \n",
       "a            0      0       0  0     0   0        0        0   0      0  0   \n",
       "peck         0      0       0  0     0   0        0        0   0      0  0   \n",
       "of           0      0       0  0     0   0        0        0   0      0  0   \n",
       "pickled      0      0       0  0     0   0        0        0   0      0  0   \n",
       "peppers      0      0       0  0     0   0        0        0   0      0  0   \n",
       "if           0      0       0  0     0   0        0        0   0      0  0   \n",
       "where        0      0       0  0     0   0        0        0   0      0  0   \n",
       "s            0      0       0  0     0   0        0        0   0      0  0   \n",
       "the          0      0       0  0     0   0        0        0   0      0  0   \n",
       "\n",
       "         the  \n",
       "peter      0  \n",
       "piper      0  \n",
       "picked     0  \n",
       "a          0  \n",
       "peck       0  \n",
       "of         0  \n",
       "pickled    0  \n",
       "peppers    0  \n",
       "if         0  \n",
       "where      0  \n",
       "s          0  \n",
       "the        0  "
      ]
     },
     "execution_count": 123,
     "metadata": {},
     "output_type": "execute_result"
    }
   ],
   "source": [
    "df = pd.DataFrame (0, columns = [*vocabluray_dict],index=[*vocabluray_dict])\n",
    "df.head(13)"
   ]
  },
  {
   "cell_type": "code",
   "execution_count": 66,
   "metadata": {},
   "outputs": [
    {
     "name": "stdout",
     "output_type": "stream",
     "text": [
      "Read  43  tokens...\n",
      "Generated  14  unigrams...\n",
      "Generated  19  bigrams...\n",
      "Calculating bigram probabilities and saving to file...\n"
     ]
    }
   ],
   "source": [
    "def bigramEstimation(file):\n",
    "    '''A very basic solution for the sake of illustration.\n",
    "       It can be calculated in a more sophesticated way.\n",
    "       '''\n",
    "\n",
    "    lst = [] # This will contain the tokens\n",
    "    unigrams = {} # for unigrams and their counts\n",
    "    bigrams = {} # for bigrams and their counts\n",
    "\n",
    "    # 1. Read the textfile, split it into a list\n",
    "    text = open(file, 'r').read()\n",
    "    lst = text.strip().split()\n",
    "    print( 'Read ', len(lst), ' tokens...')\n",
    "\n",
    "    del text # No further need for text var\n",
    "\n",
    "\n",
    "\n",
    "    # 2. Generate unigrams frequencies\n",
    "    for l in lst:\n",
    "        if not l in unigrams:\n",
    "            unigrams[l] = 1\n",
    "        else:\n",
    "            unigrams[l] += 1\n",
    "\n",
    "    print( 'Generated ', len(unigrams), ' unigrams...' ) \n",
    "\n",
    "    # 3. Generate bigrams with frequencies\n",
    "    for i in range(len(lst) - 1):\n",
    "        temp = (lst[i], lst[i+1]) # Tuples are easier to reuse than nested lists\n",
    "        if not temp in bigrams:\n",
    "            bigrams[temp] = 1\n",
    "        else:\n",
    "            bigrams[temp] += 1\n",
    "\n",
    "    print( 'Generated ', len(bigrams), ' bigrams...')\n",
    "\n",
    "    # Now Hidden Markov Model\n",
    "    # bigramProb = (Count(bigram) / Count(first_word)) + (Count(first_word)/ total_words_in_corpus)\n",
    "    # A few things we need to keep in mind\n",
    "    total_corpus = sum(unigrams.values())\n",
    "    # You can add smoothed estimation if you want\n",
    "\n",
    "\n",
    "    print('Calculating bigram probabilities and saving to file...')\n",
    "\n",
    "    # Comment the following 4 lines if you do not want the header in the file. \n",
    "    with open(\"bigrams.txt\", 'a') as out:\n",
    "        out.write('Bigram' + '\\t' + 'Bigram Count' + '\\t' + 'Uni Count' + '\\t' + 'Bigram Prob')\n",
    "        out.write('\\n')\n",
    "        out.close()\n",
    "\n",
    "\n",
    "    for k,v in bigrams.items():\n",
    "        # first_word = helle in ('hello', 'world')\n",
    "        first_word = k[0]\n",
    "        first_word_count = unigrams[first_word]\n",
    "        bi_prob = bigrams[k] / unigrams[first_word]\n",
    "        uni_prob = unigrams[first_word] / total_corpus\n",
    "\n",
    "        final_prob = bi_prob + uni_prob\n",
    "        with open(\"bigrams.csv\", 'a') as out:\n",
    "            out.write(k[0] + ' ' + k[1] + '\\t' + str(v) + '\\t' + str(first_word_count) + '\\t' + str(final_prob)) # Delete whatever you don't want to print into a file\n",
    "            out.write('\\n')\n",
    "            out.close()\n",
    "\n",
    "\n",
    "\n",
    "\n",
    "# Callings\n",
    "bigramEstimation('mother-goose-corpus.txt')"
   ]
  },
  {
   "cell_type": "code",
   "execution_count": 126,
   "metadata": {},
   "outputs": [],
   "source": [
    "import pandas as pd\n",
    "df = pd.read_csv('bigrams.csv',sep='\\t',names=[\"Sequence\", \"Bigram Count\", \"Uni Count\", \"Bigram Prob\"])"
   ]
  },
  {
   "cell_type": "code",
   "execution_count": 127,
   "metadata": {
    "scrolled": true
   },
   "outputs": [
    {
     "data": {
      "text/html": [
       "<div>\n",
       "<style scoped>\n",
       "    .dataframe tbody tr th:only-of-type {\n",
       "        vertical-align: middle;\n",
       "    }\n",
       "\n",
       "    .dataframe tbody tr th {\n",
       "        vertical-align: top;\n",
       "    }\n",
       "\n",
       "    .dataframe thead th {\n",
       "        text-align: right;\n",
       "    }\n",
       "</style>\n",
       "<table border=\"1\" class=\"dataframe\">\n",
       "  <thead>\n",
       "    <tr style=\"text-align: right;\">\n",
       "      <th></th>\n",
       "      <th>Sequence</th>\n",
       "      <th>Bigram Count</th>\n",
       "      <th>Uni Count</th>\n",
       "      <th>Bigram Prob</th>\n",
       "    </tr>\n",
       "  </thead>\n",
       "  <tbody>\n",
       "    <tr>\n",
       "      <th>0</th>\n",
       "      <td>&lt;s&gt; peter</td>\n",
       "      <td>1</td>\n",
       "      <td>4</td>\n",
       "      <td>0.343023</td>\n",
       "    </tr>\n",
       "    <tr>\n",
       "      <th>1</th>\n",
       "      <td>peter piper</td>\n",
       "      <td>4</td>\n",
       "      <td>4</td>\n",
       "      <td>1.093023</td>\n",
       "    </tr>\n",
       "    <tr>\n",
       "      <th>2</th>\n",
       "      <td>piper picked</td>\n",
       "      <td>4</td>\n",
       "      <td>4</td>\n",
       "      <td>1.093023</td>\n",
       "    </tr>\n",
       "    <tr>\n",
       "      <th>3</th>\n",
       "      <td>picked a</td>\n",
       "      <td>2</td>\n",
       "      <td>4</td>\n",
       "      <td>0.593023</td>\n",
       "    </tr>\n",
       "    <tr>\n",
       "      <th>4</th>\n",
       "      <td>a peck</td>\n",
       "      <td>3</td>\n",
       "      <td>3</td>\n",
       "      <td>1.069767</td>\n",
       "    </tr>\n",
       "  </tbody>\n",
       "</table>\n",
       "</div>"
      ],
      "text/plain": [
       "       Sequence  Bigram Count  Uni Count  Bigram Prob\n",
       "0     <s> peter             1          4     0.343023\n",
       "1   peter piper             4          4     1.093023\n",
       "2  piper picked             4          4     1.093023\n",
       "3      picked a             2          4     0.593023\n",
       "4        a peck             3          3     1.069767"
      ]
     },
     "execution_count": 127,
     "metadata": {},
     "output_type": "execute_result"
    }
   ],
   "source": [
    "df.head()"
   ]
  },
  {
   "cell_type": "code",
   "execution_count": 133,
   "metadata": {},
   "outputs": [],
   "source": [
    "def mle(w1, w2):\n",
    "    for sentence in arr:\n",
    "        sentence.count(w1+' '+w2)\n",
    "        \n",
    "for words in df['Sequence']:\n",
    "    word_list = words.split()\n",
    "    word1= word_list[0]\n",
    "    word2 = word_list[1]\n",
    "    "
   ]
  },
  {
   "cell_type": "markdown",
   "metadata": {},
   "source": [
    " \n",
    "\n",
    "### Following are the most probable Bigram"
   ]
  },
  {
   "cell_type": "code",
   "execution_count": 87,
   "metadata": {},
   "outputs": [
    {
     "data": {
      "text/html": [
       "<div>\n",
       "<style scoped>\n",
       "    .dataframe tbody tr th:only-of-type {\n",
       "        vertical-align: middle;\n",
       "    }\n",
       "\n",
       "    .dataframe tbody tr th {\n",
       "        vertical-align: top;\n",
       "    }\n",
       "\n",
       "    .dataframe thead th {\n",
       "        text-align: right;\n",
       "    }\n",
       "</style>\n",
       "<table border=\"1\" class=\"dataframe\">\n",
       "  <thead>\n",
       "    <tr style=\"text-align: right;\">\n",
       "      <th></th>\n",
       "      <th>Sequence</th>\n",
       "      <th>Bigram Count</th>\n",
       "      <th>Uni Count</th>\n",
       "      <th>Bigram Prob</th>\n",
       "    </tr>\n",
       "  </thead>\n",
       "  <tbody>\n",
       "    <tr>\n",
       "      <th>24</th>\n",
       "      <td>peck of</td>\n",
       "      <td>4</td>\n",
       "      <td>4</td>\n",
       "      <td>1.093023</td>\n",
       "    </tr>\n",
       "    <tr>\n",
       "      <th>21</th>\n",
       "      <td>piper picked</td>\n",
       "      <td>4</td>\n",
       "      <td>4</td>\n",
       "      <td>1.093023</td>\n",
       "    </tr>\n",
       "  </tbody>\n",
       "</table>\n",
       "</div>"
      ],
      "text/plain": [
       "        Sequence  Bigram Count  Uni Count  Bigram Prob\n",
       "24       peck of             4          4     1.093023\n",
       "21  piper picked             4          4     1.093023"
      ]
     },
     "execution_count": 87,
     "metadata": {},
     "output_type": "execute_result"
    }
   ],
   "source": [
    "df.sort_values('Bigram Prob').tail(2)"
   ]
  },
  {
   "cell_type": "code",
   "execution_count": null,
   "metadata": {},
   "outputs": [],
   "source": []
  },
  {
   "cell_type": "code",
   "execution_count": null,
   "metadata": {},
   "outputs": [],
   "source": []
  }
 ],
 "metadata": {
  "kernelspec": {
   "display_name": "Python 3",
   "language": "python",
   "name": "python3"
  },
  "language_info": {
   "codemirror_mode": {
    "name": "ipython",
    "version": 3
   },
   "file_extension": ".py",
   "mimetype": "text/x-python",
   "name": "python",
   "nbconvert_exporter": "python",
   "pygments_lexer": "ipython3",
   "version": "3.7.9"
  }
 },
 "nbformat": 4,
 "nbformat_minor": 4
}
